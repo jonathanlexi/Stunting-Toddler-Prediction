{
 "cells": [
  {
   "cell_type": "code",
   "execution_count": 18,
   "id": "208041c4",
   "metadata": {},
   "outputs": [],
   "source": [
    "import pandas as pd \n",
    "import numpy as np \n",
    "import matplotlib.pyplot as plt \n",
    "import seaborn as sns\n",
    "%matplotlib inline"
   ]
  },
  {
   "cell_type": "markdown",
   "id": "b0e6c2da",
   "metadata": {},
   "source": [
    "## Import Dataset "
   ]
  },
  {
   "cell_type": "code",
   "execution_count": 19,
   "id": "99cdf14d",
   "metadata": {},
   "outputs": [],
   "source": [
    "df= pd.read_csv('data_balita.csv')"
   ]
  },
  {
   "cell_type": "code",
   "execution_count": 20,
   "id": "eb5c3376",
   "metadata": {},
   "outputs": [
    {
     "data": {
      "text/html": [
       "<div>\n",
       "<style scoped>\n",
       "    .dataframe tbody tr th:only-of-type {\n",
       "        vertical-align: middle;\n",
       "    }\n",
       "\n",
       "    .dataframe tbody tr th {\n",
       "        vertical-align: top;\n",
       "    }\n",
       "\n",
       "    .dataframe thead th {\n",
       "        text-align: right;\n",
       "    }\n",
       "</style>\n",
       "<table border=\"1\" class=\"dataframe\">\n",
       "  <thead>\n",
       "    <tr style=\"text-align: right;\">\n",
       "      <th></th>\n",
       "      <th>Umur (bulan)</th>\n",
       "      <th>Jenis Kelamin</th>\n",
       "      <th>Tinggi Badan (cm)</th>\n",
       "      <th>Status Gizi</th>\n",
       "    </tr>\n",
       "  </thead>\n",
       "  <tbody>\n",
       "    <tr>\n",
       "      <th>0</th>\n",
       "      <td>0</td>\n",
       "      <td>laki-laki</td>\n",
       "      <td>44.591973</td>\n",
       "      <td>stunted</td>\n",
       "    </tr>\n",
       "    <tr>\n",
       "      <th>1</th>\n",
       "      <td>0</td>\n",
       "      <td>laki-laki</td>\n",
       "      <td>56.705203</td>\n",
       "      <td>tinggi</td>\n",
       "    </tr>\n",
       "    <tr>\n",
       "      <th>2</th>\n",
       "      <td>0</td>\n",
       "      <td>laki-laki</td>\n",
       "      <td>46.863358</td>\n",
       "      <td>normal</td>\n",
       "    </tr>\n",
       "    <tr>\n",
       "      <th>3</th>\n",
       "      <td>0</td>\n",
       "      <td>laki-laki</td>\n",
       "      <td>47.508026</td>\n",
       "      <td>normal</td>\n",
       "    </tr>\n",
       "    <tr>\n",
       "      <th>4</th>\n",
       "      <td>0</td>\n",
       "      <td>laki-laki</td>\n",
       "      <td>42.743494</td>\n",
       "      <td>severely stunted</td>\n",
       "    </tr>\n",
       "  </tbody>\n",
       "</table>\n",
       "</div>"
      ],
      "text/plain": [
       "   Umur (bulan) Jenis Kelamin  Tinggi Badan (cm)       Status Gizi\n",
       "0             0     laki-laki          44.591973           stunted\n",
       "1             0     laki-laki          56.705203            tinggi\n",
       "2             0     laki-laki          46.863358            normal\n",
       "3             0     laki-laki          47.508026            normal\n",
       "4             0     laki-laki          42.743494  severely stunted"
      ]
     },
     "execution_count": 20,
     "metadata": {},
     "output_type": "execute_result"
    }
   ],
   "source": [
    "df.head()"
   ]
  },
  {
   "cell_type": "code",
   "execution_count": 21,
   "id": "965ff83e",
   "metadata": {
    "scrolled": true
   },
   "outputs": [
    {
     "name": "stdout",
     "output_type": "stream",
     "text": [
      "<class 'pandas.core.frame.DataFrame'>\n",
      "RangeIndex: 120999 entries, 0 to 120998\n",
      "Data columns (total 4 columns):\n",
      " #   Column             Non-Null Count   Dtype  \n",
      "---  ------             --------------   -----  \n",
      " 0   Umur (bulan)       120999 non-null  int64  \n",
      " 1   Jenis Kelamin      120999 non-null  object \n",
      " 2   Tinggi Badan (cm)  120999 non-null  float64\n",
      " 3   Status Gizi        120999 non-null  object \n",
      "dtypes: float64(1), int64(1), object(2)\n",
      "memory usage: 3.7+ MB\n"
     ]
    }
   ],
   "source": [
    "df.info()"
   ]
  },
  {
   "cell_type": "code",
   "execution_count": 22,
   "id": "e9c2cf53",
   "metadata": {},
   "outputs": [
    {
     "data": {
      "text/html": [
       "<div>\n",
       "<style scoped>\n",
       "    .dataframe tbody tr th:only-of-type {\n",
       "        vertical-align: middle;\n",
       "    }\n",
       "\n",
       "    .dataframe tbody tr th {\n",
       "        vertical-align: top;\n",
       "    }\n",
       "\n",
       "    .dataframe thead th {\n",
       "        text-align: right;\n",
       "    }\n",
       "</style>\n",
       "<table border=\"1\" class=\"dataframe\">\n",
       "  <thead>\n",
       "    <tr style=\"text-align: right;\">\n",
       "      <th></th>\n",
       "      <th>Umur (bulan)</th>\n",
       "      <th>Tinggi Badan (cm)</th>\n",
       "    </tr>\n",
       "  </thead>\n",
       "  <tbody>\n",
       "    <tr>\n",
       "      <th>count</th>\n",
       "      <td>120999.000000</td>\n",
       "      <td>120999.000000</td>\n",
       "    </tr>\n",
       "    <tr>\n",
       "      <th>mean</th>\n",
       "      <td>30.173803</td>\n",
       "      <td>88.655434</td>\n",
       "    </tr>\n",
       "    <tr>\n",
       "      <th>std</th>\n",
       "      <td>17.575119</td>\n",
       "      <td>17.300997</td>\n",
       "    </tr>\n",
       "    <tr>\n",
       "      <th>min</th>\n",
       "      <td>0.000000</td>\n",
       "      <td>40.010437</td>\n",
       "    </tr>\n",
       "    <tr>\n",
       "      <th>25%</th>\n",
       "      <td>15.000000</td>\n",
       "      <td>77.000000</td>\n",
       "    </tr>\n",
       "    <tr>\n",
       "      <th>50%</th>\n",
       "      <td>30.000000</td>\n",
       "      <td>89.800000</td>\n",
       "    </tr>\n",
       "    <tr>\n",
       "      <th>75%</th>\n",
       "      <td>45.000000</td>\n",
       "      <td>101.200000</td>\n",
       "    </tr>\n",
       "    <tr>\n",
       "      <th>max</th>\n",
       "      <td>60.000000</td>\n",
       "      <td>128.000000</td>\n",
       "    </tr>\n",
       "  </tbody>\n",
       "</table>\n",
       "</div>"
      ],
      "text/plain": [
       "        Umur (bulan)  Tinggi Badan (cm)\n",
       "count  120999.000000      120999.000000\n",
       "mean       30.173803          88.655434\n",
       "std        17.575119          17.300997\n",
       "min         0.000000          40.010437\n",
       "25%        15.000000          77.000000\n",
       "50%        30.000000          89.800000\n",
       "75%        45.000000         101.200000\n",
       "max        60.000000         128.000000"
      ]
     },
     "execution_count": 22,
     "metadata": {},
     "output_type": "execute_result"
    }
   ],
   "source": [
    "df.describe()"
   ]
  },
  {
   "cell_type": "code",
   "execution_count": 23,
   "id": "e8be4cac",
   "metadata": {},
   "outputs": [
    {
     "data": {
      "text/plain": [
       "array(['laki-laki', 'perempuan'], dtype=object)"
      ]
     },
     "execution_count": 23,
     "metadata": {},
     "output_type": "execute_result"
    }
   ],
   "source": [
    "df['Jenis Kelamin'].unique()"
   ]
  },
  {
   "cell_type": "code",
   "execution_count": 24,
   "id": "2a067c2a",
   "metadata": {},
   "outputs": [
    {
     "data": {
      "text/plain": [
       "array(['stunted', 'tinggi', 'normal', 'severely stunted'], dtype=object)"
      ]
     },
     "execution_count": 24,
     "metadata": {},
     "output_type": "execute_result"
    }
   ],
   "source": [
    "df['Status Gizi'].unique()"
   ]
  },
  {
   "cell_type": "code",
   "execution_count": 25,
   "id": "fcfd9cd4",
   "metadata": {},
   "outputs": [
    {
     "data": {
      "text/plain": [
       "Umur (bulan)         0\n",
       "Jenis Kelamin        0\n",
       "Tinggi Badan (cm)    0\n",
       "Status Gizi          0\n",
       "dtype: int64"
      ]
     },
     "execution_count": 25,
     "metadata": {},
     "output_type": "execute_result"
    }
   ],
   "source": [
    "df.isnull().sum()"
   ]
  },
  {
   "cell_type": "code",
   "execution_count": 26,
   "id": "165ff65b",
   "metadata": {},
   "outputs": [
    {
     "data": {
      "text/plain": [
       "81574"
      ]
     },
     "execution_count": 26,
     "metadata": {},
     "output_type": "execute_result"
    }
   ],
   "source": [
    "df.duplicated().sum()"
   ]
  },
  {
   "cell_type": "code",
   "execution_count": 27,
   "id": "66c9942c",
   "metadata": {
    "scrolled": true
   },
   "outputs": [
    {
     "data": {
      "text/plain": [
       "Umur (bulan)         0\n",
       "Jenis Kelamin        0\n",
       "Tinggi Badan (cm)    0\n",
       "Status Gizi          0\n",
       "dtype: int64"
      ]
     },
     "execution_count": 27,
     "metadata": {},
     "output_type": "execute_result"
    }
   ],
   "source": [
    "df.isna().sum()"
   ]
  },
  {
   "cell_type": "markdown",
   "id": "9b002e51",
   "metadata": {},
   "source": [
    "## Exploratory Data Analysis"
   ]
  },
  {
   "cell_type": "code",
   "execution_count": 28,
   "id": "185c5c14",
   "metadata": {},
   "outputs": [
    {
     "data": {
      "text/plain": [
       "Index(['Umur (bulan)', 'Jenis Kelamin', 'Tinggi Badan (cm)', 'Status Gizi'], dtype='object')"
      ]
     },
     "execution_count": 28,
     "metadata": {},
     "output_type": "execute_result"
    }
   ],
   "source": [
    "df.columns"
   ]
  },
  {
   "cell_type": "code",
   "execution_count": 29,
   "id": "c1290ddf",
   "metadata": {},
   "outputs": [],
   "source": [
    "df = df.rename(columns = {'Umur (bulan)' : 'age(month)',\n",
    "                     'Jenis Kelamin' : 'sex',\n",
    "                     'Tinggi Badan (cm)' : 'height(cm)',\n",
    "                    'Status Gizi' : 'status'})"
   ]
  },
  {
   "cell_type": "code",
   "execution_count": 30,
   "id": "0b199b8d",
   "metadata": {},
   "outputs": [
    {
     "data": {
      "text/plain": [
       "age(month)      61\n",
       "sex              2\n",
       "height(cm)    6800\n",
       "status           4\n",
       "dtype: int64"
      ]
     },
     "execution_count": 30,
     "metadata": {},
     "output_type": "execute_result"
    }
   ],
   "source": [
    "df.nunique()"
   ]
  },
  {
   "cell_type": "code",
   "execution_count": 31,
   "id": "8d1aa36e",
   "metadata": {
    "scrolled": true
   },
   "outputs": [],
   "source": [
    "df['sex'] = df['sex'].replace({'laki-laki' : 'male' ,\n",
    "                  'perempuan' : 'female'})"
   ]
  },
  {
   "cell_type": "code",
   "execution_count": 35,
   "id": "b5a1cb2e",
   "metadata": {},
   "outputs": [],
   "source": [
    "df['status'] = df['status'].replace({\n",
    "    'tinggi' : 'tall',\n",
    "})"
   ]
  },
  {
   "cell_type": "code",
   "execution_count": 56,
   "id": "bba6fb72",
   "metadata": {
    "scrolled": true
   },
   "outputs": [
    {
     "data": {
      "text/html": [
       "<div>\n",
       "<style scoped>\n",
       "    .dataframe tbody tr th:only-of-type {\n",
       "        vertical-align: middle;\n",
       "    }\n",
       "\n",
       "    .dataframe tbody tr th {\n",
       "        vertical-align: top;\n",
       "    }\n",
       "\n",
       "    .dataframe thead th {\n",
       "        text-align: right;\n",
       "    }\n",
       "</style>\n",
       "<table border=\"1\" class=\"dataframe\">\n",
       "  <thead>\n",
       "    <tr style=\"text-align: right;\">\n",
       "      <th></th>\n",
       "      <th></th>\n",
       "      <th>age(month)</th>\n",
       "      <th>height(cm)</th>\n",
       "    </tr>\n",
       "    <tr>\n",
       "      <th>sex</th>\n",
       "      <th>status</th>\n",
       "      <th></th>\n",
       "      <th></th>\n",
       "    </tr>\n",
       "  </thead>\n",
       "  <tbody>\n",
       "    <tr>\n",
       "      <th rowspan=\"4\" valign=\"top\">female</th>\n",
       "      <th>normal</th>\n",
       "      <td>34352</td>\n",
       "      <td>34352</td>\n",
       "    </tr>\n",
       "    <tr>\n",
       "      <th>severely stunted</th>\n",
       "      <td>9495</td>\n",
       "      <td>9495</td>\n",
       "    </tr>\n",
       "    <tr>\n",
       "      <th>stunted</th>\n",
       "      <td>7006</td>\n",
       "      <td>7006</td>\n",
       "    </tr>\n",
       "    <tr>\n",
       "      <th>tall</th>\n",
       "      <td>10149</td>\n",
       "      <td>10149</td>\n",
       "    </tr>\n",
       "    <tr>\n",
       "      <th rowspan=\"4\" valign=\"top\">male</th>\n",
       "      <th>normal</th>\n",
       "      <td>33403</td>\n",
       "      <td>33403</td>\n",
       "    </tr>\n",
       "    <tr>\n",
       "      <th>severely stunted</th>\n",
       "      <td>10374</td>\n",
       "      <td>10374</td>\n",
       "    </tr>\n",
       "    <tr>\n",
       "      <th>stunted</th>\n",
       "      <td>6809</td>\n",
       "      <td>6809</td>\n",
       "    </tr>\n",
       "    <tr>\n",
       "      <th>tall</th>\n",
       "      <td>9411</td>\n",
       "      <td>9411</td>\n",
       "    </tr>\n",
       "  </tbody>\n",
       "</table>\n",
       "</div>"
      ],
      "text/plain": [
       "                         age(month)  height(cm)\n",
       "sex    status                                  \n",
       "female normal                 34352       34352\n",
       "       severely stunted        9495        9495\n",
       "       stunted                 7006        7006\n",
       "       tall                   10149       10149\n",
       "male   normal                 33403       33403\n",
       "       severely stunted       10374       10374\n",
       "       stunted                 6809        6809\n",
       "       tall                    9411        9411"
      ]
     },
     "execution_count": 56,
     "metadata": {},
     "output_type": "execute_result"
    }
   ],
   "source": [
    "df.groupby(['sex','status']).sum()"
   ]
  },
  {
   "cell_type": "code",
   "execution_count": 103,
   "id": "6761d906",
   "metadata": {
    "scrolled": true
   },
   "outputs": [
    {
     "data": {
      "text/html": [
       "<div>\n",
       "<style scoped>\n",
       "    .dataframe tbody tr th:only-of-type {\n",
       "        vertical-align: middle;\n",
       "    }\n",
       "\n",
       "    .dataframe tbody tr th {\n",
       "        vertical-align: top;\n",
       "    }\n",
       "\n",
       "    .dataframe thead th {\n",
       "        text-align: right;\n",
       "    }\n",
       "</style>\n",
       "<table border=\"1\" class=\"dataframe\">\n",
       "  <thead>\n",
       "    <tr style=\"text-align: right;\">\n",
       "      <th></th>\n",
       "      <th>umur(bulan)</th>\n",
       "      <th>jenis_kelamin</th>\n",
       "      <th>tinggi_badan(cm)</th>\n",
       "      <th>status_gizi</th>\n",
       "    </tr>\n",
       "  </thead>\n",
       "  <tbody>\n",
       "    <tr>\n",
       "      <th>997</th>\n",
       "      <td>0</td>\n",
       "      <td>perempuan</td>\n",
       "      <td>42.195784</td>\n",
       "      <td>severely stunted</td>\n",
       "    </tr>\n",
       "    <tr>\n",
       "      <th>998</th>\n",
       "      <td>0</td>\n",
       "      <td>perempuan</td>\n",
       "      <td>54.817340</td>\n",
       "      <td>tinggi</td>\n",
       "    </tr>\n",
       "    <tr>\n",
       "      <th>999</th>\n",
       "      <td>0</td>\n",
       "      <td>perempuan</td>\n",
       "      <td>43.702108</td>\n",
       "      <td>stunted</td>\n",
       "    </tr>\n",
       "    <tr>\n",
       "      <th>1000</th>\n",
       "      <td>0</td>\n",
       "      <td>perempuan</td>\n",
       "      <td>41.400348</td>\n",
       "      <td>severely stunted</td>\n",
       "    </tr>\n",
       "    <tr>\n",
       "      <th>1001</th>\n",
       "      <td>0</td>\n",
       "      <td>perempuan</td>\n",
       "      <td>40.748218</td>\n",
       "      <td>severely stunted</td>\n",
       "    </tr>\n",
       "    <tr>\n",
       "      <th>...</th>\n",
       "      <td>...</td>\n",
       "      <td>...</td>\n",
       "      <td>...</td>\n",
       "      <td>...</td>\n",
       "    </tr>\n",
       "    <tr>\n",
       "      <th>120994</th>\n",
       "      <td>60</td>\n",
       "      <td>perempuan</td>\n",
       "      <td>100.600000</td>\n",
       "      <td>normal</td>\n",
       "    </tr>\n",
       "    <tr>\n",
       "      <th>120995</th>\n",
       "      <td>60</td>\n",
       "      <td>perempuan</td>\n",
       "      <td>98.300000</td>\n",
       "      <td>stunted</td>\n",
       "    </tr>\n",
       "    <tr>\n",
       "      <th>120996</th>\n",
       "      <td>60</td>\n",
       "      <td>perempuan</td>\n",
       "      <td>121.300000</td>\n",
       "      <td>normal</td>\n",
       "    </tr>\n",
       "    <tr>\n",
       "      <th>120997</th>\n",
       "      <td>60</td>\n",
       "      <td>perempuan</td>\n",
       "      <td>112.200000</td>\n",
       "      <td>normal</td>\n",
       "    </tr>\n",
       "    <tr>\n",
       "      <th>120998</th>\n",
       "      <td>60</td>\n",
       "      <td>perempuan</td>\n",
       "      <td>109.800000</td>\n",
       "      <td>normal</td>\n",
       "    </tr>\n",
       "  </tbody>\n",
       "</table>\n",
       "<p>61002 rows × 4 columns</p>\n",
       "</div>"
      ],
      "text/plain": [
       "        umur(bulan) jenis_kelamin  tinggi_badan(cm)       status_gizi\n",
       "997               0     perempuan         42.195784  severely stunted\n",
       "998               0     perempuan         54.817340            tinggi\n",
       "999               0     perempuan         43.702108           stunted\n",
       "1000              0     perempuan         41.400348  severely stunted\n",
       "1001              0     perempuan         40.748218  severely stunted\n",
       "...             ...           ...               ...               ...\n",
       "120994           60     perempuan        100.600000            normal\n",
       "120995           60     perempuan         98.300000           stunted\n",
       "120996           60     perempuan        121.300000            normal\n",
       "120997           60     perempuan        112.200000            normal\n",
       "120998           60     perempuan        109.800000            normal\n",
       "\n",
       "[61002 rows x 4 columns]"
      ]
     },
     "execution_count": 103,
     "metadata": {},
     "output_type": "execute_result"
    }
   ],
   "source": [
    "df[df['jenis_kelamin'].str.contains('perempuan')]"
   ]
  },
  {
   "cell_type": "code",
   "execution_count": 87,
   "id": "8ac35dfe",
   "metadata": {
    "scrolled": true
   },
   "outputs": [
    {
     "data": {
      "text/html": [
       "<div>\n",
       "<style scoped>\n",
       "    .dataframe tbody tr th:only-of-type {\n",
       "        vertical-align: middle;\n",
       "    }\n",
       "\n",
       "    .dataframe tbody tr th {\n",
       "        vertical-align: top;\n",
       "    }\n",
       "\n",
       "    .dataframe thead th {\n",
       "        text-align: right;\n",
       "    }\n",
       "</style>\n",
       "<table border=\"1\" class=\"dataframe\">\n",
       "  <thead>\n",
       "    <tr style=\"text-align: right;\">\n",
       "      <th></th>\n",
       "      <th>jenis_kelamin</th>\n",
       "      <th>status_gizi</th>\n",
       "      <th>counts</th>\n",
       "    </tr>\n",
       "  </thead>\n",
       "  <tbody>\n",
       "    <tr>\n",
       "      <th>0</th>\n",
       "      <td>laki-laki</td>\n",
       "      <td>normal</td>\n",
       "      <td>33403</td>\n",
       "    </tr>\n",
       "    <tr>\n",
       "      <th>1</th>\n",
       "      <td>laki-laki</td>\n",
       "      <td>severely stunted</td>\n",
       "      <td>10374</td>\n",
       "    </tr>\n",
       "    <tr>\n",
       "      <th>2</th>\n",
       "      <td>laki-laki</td>\n",
       "      <td>stunted</td>\n",
       "      <td>6809</td>\n",
       "    </tr>\n",
       "    <tr>\n",
       "      <th>3</th>\n",
       "      <td>laki-laki</td>\n",
       "      <td>tinggi</td>\n",
       "      <td>9411</td>\n",
       "    </tr>\n",
       "    <tr>\n",
       "      <th>4</th>\n",
       "      <td>perempuan</td>\n",
       "      <td>normal</td>\n",
       "      <td>34352</td>\n",
       "    </tr>\n",
       "    <tr>\n",
       "      <th>5</th>\n",
       "      <td>perempuan</td>\n",
       "      <td>severely stunted</td>\n",
       "      <td>9495</td>\n",
       "    </tr>\n",
       "    <tr>\n",
       "      <th>6</th>\n",
       "      <td>perempuan</td>\n",
       "      <td>stunted</td>\n",
       "      <td>7006</td>\n",
       "    </tr>\n",
       "    <tr>\n",
       "      <th>7</th>\n",
       "      <td>perempuan</td>\n",
       "      <td>tinggi</td>\n",
       "      <td>10149</td>\n",
       "    </tr>\n",
       "  </tbody>\n",
       "</table>\n",
       "</div>"
      ],
      "text/plain": [
       "  jenis_kelamin       status_gizi  counts\n",
       "0     laki-laki            normal   33403\n",
       "1     laki-laki  severely stunted   10374\n",
       "2     laki-laki           stunted    6809\n",
       "3     laki-laki            tinggi    9411\n",
       "4     perempuan            normal   34352\n",
       "5     perempuan  severely stunted    9495\n",
       "6     perempuan           stunted    7006\n",
       "7     perempuan            tinggi   10149"
      ]
     },
     "execution_count": 87,
     "metadata": {},
     "output_type": "execute_result"
    }
   ],
   "source": [
    "df.groupby(['jenis_kelamin','status_gizi']).size().reset_index(name='counts')"
   ]
  },
  {
   "cell_type": "code",
   "execution_count": 73,
   "id": "259db786",
   "metadata": {
    "scrolled": true
   },
   "outputs": [
    {
     "data": {
      "text/html": [
       "<div>\n",
       "<style scoped>\n",
       "    .dataframe tbody tr th:only-of-type {\n",
       "        vertical-align: middle;\n",
       "    }\n",
       "\n",
       "    .dataframe tbody tr th {\n",
       "        vertical-align: top;\n",
       "    }\n",
       "\n",
       "    .dataframe thead th {\n",
       "        text-align: right;\n",
       "    }\n",
       "</style>\n",
       "<table border=\"1\" class=\"dataframe\">\n",
       "  <thead>\n",
       "    <tr style=\"text-align: right;\">\n",
       "      <th></th>\n",
       "      <th>tinggi_badan(cm)</th>\n",
       "      <th>umur(bulan)</th>\n",
       "    </tr>\n",
       "    <tr>\n",
       "      <th>status_gizi</th>\n",
       "      <th></th>\n",
       "      <th></th>\n",
       "    </tr>\n",
       "  </thead>\n",
       "  <tbody>\n",
       "    <tr>\n",
       "      <th>normal</th>\n",
       "      <td>92.702689</td>\n",
       "      <td>32.607601</td>\n",
       "    </tr>\n",
       "    <tr>\n",
       "      <th>severely stunted</th>\n",
       "      <td>73.176224</td>\n",
       "      <td>26.290956</td>\n",
       "    </tr>\n",
       "    <tr>\n",
       "      <th>stunted</th>\n",
       "      <td>82.208722</td>\n",
       "      <td>32.763807</td>\n",
       "    </tr>\n",
       "    <tr>\n",
       "      <th>tinggi</th>\n",
       "      <td>94.912898</td>\n",
       "      <td>23.858129</td>\n",
       "    </tr>\n",
       "  </tbody>\n",
       "</table>\n",
       "</div>"
      ],
      "text/plain": [
       "                  tinggi_badan(cm)  umur(bulan)\n",
       "status_gizi                                    \n",
       "normal                   92.702689    32.607601\n",
       "severely stunted         73.176224    26.290956\n",
       "stunted                  82.208722    32.763807\n",
       "tinggi                   94.912898    23.858129"
      ]
     },
     "execution_count": 73,
     "metadata": {},
     "output_type": "execute_result"
    }
   ],
   "source": [
    "df.groupby('status_gizi')[['tinggi_badan(cm)','umur(bulan)']].mean()"
   ]
  },
  {
   "cell_type": "code",
   "execution_count": 80,
   "id": "fd8f4180",
   "metadata": {
    "scrolled": true
   },
   "outputs": [
    {
     "data": {
      "text/plain": [
       "status_gizi\n",
       "normal              67755\n",
       "severely stunted    19869\n",
       "tinggi              19560\n",
       "stunted             13815\n",
       "Name: count, dtype: int64"
      ]
     },
     "execution_count": 80,
     "metadata": {},
     "output_type": "execute_result"
    }
   ],
   "source": [
    "df.status_gizi.value_counts()"
   ]
  },
  {
   "cell_type": "code",
   "execution_count": 128,
   "id": "243c9ab5",
   "metadata": {
    "scrolled": true
   },
   "outputs": [
    {
     "data": {
      "text/plain": [
       "jenis_kelamin\n",
       "perempuan    61002\n",
       "laki-laki    59997\n",
       "Name: count, dtype: int64"
      ]
     },
     "execution_count": 128,
     "metadata": {},
     "output_type": "execute_result"
    }
   ],
   "source": [
    "df.jenis_kelamin.value_counts()"
   ]
  },
  {
   "cell_type": "code",
   "execution_count": 97,
   "id": "f9a84493",
   "metadata": {
    "scrolled": false
   },
   "outputs": [
    {
     "data": {
      "text/plain": [
       "jenis_kelamin  status_gizi     \n",
       "laki-laki      normal              33403\n",
       "               severely stunted    10374\n",
       "               stunted              6809\n",
       "               tinggi               9411\n",
       "perempuan      normal              34352\n",
       "               severely stunted     9495\n",
       "               stunted              7006\n",
       "               tinggi              10149\n",
       "dtype: int64"
      ]
     },
     "execution_count": 97,
     "metadata": {},
     "output_type": "execute_result"
    }
   ],
   "source": [
    "df.groupby(['jenis_kelamin','status_gizi']).size()"
   ]
  },
  {
   "cell_type": "code",
   "execution_count": 145,
   "id": "44e20d8d",
   "metadata": {},
   "outputs": [
    {
     "data": {
      "text/plain": [
       "6809"
      ]
     },
     "execution_count": 145,
     "metadata": {},
     "output_type": "execute_result"
    }
   ],
   "source": [
    "df_2 = df[(df['jenis_kelamin'] == 'laki-laki') & (df['status_gizi'] == 'stunted')]\n",
    "df_2.shape[0]"
   ]
  },
  {
   "cell_type": "code",
   "execution_count": 171,
   "id": "474d29b4",
   "metadata": {},
   "outputs": [
    {
     "data": {
      "text/html": [
       "<div>\n",
       "<style scoped>\n",
       "    .dataframe tbody tr th:only-of-type {\n",
       "        vertical-align: middle;\n",
       "    }\n",
       "\n",
       "    .dataframe tbody tr th {\n",
       "        vertical-align: top;\n",
       "    }\n",
       "\n",
       "    .dataframe thead th {\n",
       "        text-align: right;\n",
       "    }\n",
       "</style>\n",
       "<table border=\"1\" class=\"dataframe\">\n",
       "  <thead>\n",
       "    <tr style=\"text-align: right;\">\n",
       "      <th></th>\n",
       "      <th>umur(bulan)</th>\n",
       "      <th>tinggi_badan(cm)</th>\n",
       "      <th>status_gizi</th>\n",
       "    </tr>\n",
       "    <tr>\n",
       "      <th>jenis_kelamin</th>\n",
       "      <th></th>\n",
       "      <th></th>\n",
       "      <th></th>\n",
       "    </tr>\n",
       "  </thead>\n",
       "  <tbody>\n",
       "    <tr>\n",
       "      <th>laki-laki</th>\n",
       "      <td>6809</td>\n",
       "      <td>6809</td>\n",
       "      <td>6809</td>\n",
       "    </tr>\n",
       "    <tr>\n",
       "      <th>perempuan</th>\n",
       "      <td>7006</td>\n",
       "      <td>7006</td>\n",
       "      <td>7006</td>\n",
       "    </tr>\n",
       "  </tbody>\n",
       "</table>\n",
       "</div>"
      ],
      "text/plain": [
       "               umur(bulan)  tinggi_badan(cm)  status_gizi\n",
       "jenis_kelamin                                            \n",
       "laki-laki             6809              6809         6809\n",
       "perempuan             7006              7006         7006"
      ]
     },
     "execution_count": 171,
     "metadata": {},
     "output_type": "execute_result"
    }
   ],
   "source": [
    "df[df['status_gizi'] == 'stunted'].groupby('jenis_kelamin').count()"
   ]
  },
  {
   "cell_type": "code",
   "execution_count": 13,
   "id": "f19e1612",
   "metadata": {},
   "outputs": [
    {
     "data": {
      "text/plain": [
       "array(['laki-laki', 'perempuan'], dtype=object)"
      ]
     },
     "execution_count": 13,
     "metadata": {},
     "output_type": "execute_result"
    }
   ],
   "source": [
    "df['sex'].unique()"
   ]
  },
  {
   "cell_type": "code",
   "execution_count": 17,
   "id": "7d1c7b9e",
   "metadata": {},
   "outputs": [
    {
     "data": {
      "text/plain": [
       "0    male\n",
       "1    male\n",
       "2    male\n",
       "3    male\n",
       "4    male\n",
       "Name: sex, dtype: object"
      ]
     },
     "execution_count": 17,
     "metadata": {},
     "output_type": "execute_result"
    }
   ],
   "source": [
    "df.head()"
   ]
  },
  {
   "cell_type": "code",
   "execution_count": 33,
   "id": "121d6664",
   "metadata": {},
   "outputs": [
    {
     "data": {
      "text/plain": [
       "array(['stunted', 'tinggi', 'normal', 'severely stunted'], dtype=object)"
      ]
     },
     "execution_count": 33,
     "metadata": {},
     "output_type": "execute_result"
    }
   ],
   "source": [
    "df['status'].unique()"
   ]
  },
  {
   "cell_type": "code",
   "execution_count": null,
   "id": "601e943b",
   "metadata": {},
   "outputs": [],
   "source": []
  }
 ],
 "metadata": {
  "kernelspec": {
   "display_name": "Python 3 (ipykernel)",
   "language": "python",
   "name": "python3"
  },
  "language_info": {
   "codemirror_mode": {
    "name": "ipython",
    "version": 3
   },
   "file_extension": ".py",
   "mimetype": "text/x-python",
   "name": "python",
   "nbconvert_exporter": "python",
   "pygments_lexer": "ipython3",
   "version": "3.11.5"
  }
 },
 "nbformat": 4,
 "nbformat_minor": 5
}
