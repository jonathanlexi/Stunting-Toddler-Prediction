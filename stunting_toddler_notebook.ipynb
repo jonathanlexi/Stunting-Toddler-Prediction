{
 "cells": [
  {
   "cell_type": "code",
   "execution_count": 194,
   "id": "208041c4",
   "metadata": {},
   "outputs": [],
   "source": [
    "import pandas as pd \n",
    "import numpy as np \n",
    "import matplotlib.pyplot as plt \n",
    "import seaborn as sns\n",
    "%matplotlib inline"
   ]
  },
  {
   "cell_type": "markdown",
   "id": "b0e6c2da",
   "metadata": {},
   "source": [
    "## Import Dataset "
   ]
  },
  {
   "cell_type": "code",
   "execution_count": 195,
   "id": "99cdf14d",
   "metadata": {},
   "outputs": [],
   "source": [
    "df= pd.read_csv('data_balita.csv')"
   ]
  },
  {
   "cell_type": "code",
   "execution_count": 196,
   "id": "eb5c3376",
   "metadata": {},
   "outputs": [
    {
     "data": {
      "text/html": [
       "<div>\n",
       "<style scoped>\n",
       "    .dataframe tbody tr th:only-of-type {\n",
       "        vertical-align: middle;\n",
       "    }\n",
       "\n",
       "    .dataframe tbody tr th {\n",
       "        vertical-align: top;\n",
       "    }\n",
       "\n",
       "    .dataframe thead th {\n",
       "        text-align: right;\n",
       "    }\n",
       "</style>\n",
       "<table border=\"1\" class=\"dataframe\">\n",
       "  <thead>\n",
       "    <tr style=\"text-align: right;\">\n",
       "      <th></th>\n",
       "      <th>Umur (bulan)</th>\n",
       "      <th>Jenis Kelamin</th>\n",
       "      <th>Tinggi Badan (cm)</th>\n",
       "      <th>Status Gizi</th>\n",
       "    </tr>\n",
       "  </thead>\n",
       "  <tbody>\n",
       "    <tr>\n",
       "      <th>0</th>\n",
       "      <td>0</td>\n",
       "      <td>laki-laki</td>\n",
       "      <td>44.591973</td>\n",
       "      <td>stunted</td>\n",
       "    </tr>\n",
       "    <tr>\n",
       "      <th>1</th>\n",
       "      <td>0</td>\n",
       "      <td>laki-laki</td>\n",
       "      <td>56.705203</td>\n",
       "      <td>tinggi</td>\n",
       "    </tr>\n",
       "    <tr>\n",
       "      <th>2</th>\n",
       "      <td>0</td>\n",
       "      <td>laki-laki</td>\n",
       "      <td>46.863358</td>\n",
       "      <td>normal</td>\n",
       "    </tr>\n",
       "    <tr>\n",
       "      <th>3</th>\n",
       "      <td>0</td>\n",
       "      <td>laki-laki</td>\n",
       "      <td>47.508026</td>\n",
       "      <td>normal</td>\n",
       "    </tr>\n",
       "    <tr>\n",
       "      <th>4</th>\n",
       "      <td>0</td>\n",
       "      <td>laki-laki</td>\n",
       "      <td>42.743494</td>\n",
       "      <td>severely stunted</td>\n",
       "    </tr>\n",
       "  </tbody>\n",
       "</table>\n",
       "</div>"
      ],
      "text/plain": [
       "   Umur (bulan) Jenis Kelamin  Tinggi Badan (cm)       Status Gizi\n",
       "0             0     laki-laki          44.591973           stunted\n",
       "1             0     laki-laki          56.705203            tinggi\n",
       "2             0     laki-laki          46.863358            normal\n",
       "3             0     laki-laki          47.508026            normal\n",
       "4             0     laki-laki          42.743494  severely stunted"
      ]
     },
     "execution_count": 196,
     "metadata": {},
     "output_type": "execute_result"
    }
   ],
   "source": [
    "df.head()"
   ]
  },
  {
   "cell_type": "code",
   "execution_count": 197,
   "id": "965ff83e",
   "metadata": {
    "scrolled": true
   },
   "outputs": [
    {
     "name": "stdout",
     "output_type": "stream",
     "text": [
      "<class 'pandas.core.frame.DataFrame'>\n",
      "RangeIndex: 120999 entries, 0 to 120998\n",
      "Data columns (total 4 columns):\n",
      " #   Column             Non-Null Count   Dtype  \n",
      "---  ------             --------------   -----  \n",
      " 0   Umur (bulan)       120999 non-null  int64  \n",
      " 1   Jenis Kelamin      120999 non-null  object \n",
      " 2   Tinggi Badan (cm)  120999 non-null  float64\n",
      " 3   Status Gizi        120999 non-null  object \n",
      "dtypes: float64(1), int64(1), object(2)\n",
      "memory usage: 3.7+ MB\n"
     ]
    }
   ],
   "source": [
    "df.info()"
   ]
  },
  {
   "cell_type": "code",
   "execution_count": 198,
   "id": "e9c2cf53",
   "metadata": {},
   "outputs": [
    {
     "data": {
      "text/html": [
       "<div>\n",
       "<style scoped>\n",
       "    .dataframe tbody tr th:only-of-type {\n",
       "        vertical-align: middle;\n",
       "    }\n",
       "\n",
       "    .dataframe tbody tr th {\n",
       "        vertical-align: top;\n",
       "    }\n",
       "\n",
       "    .dataframe thead th {\n",
       "        text-align: right;\n",
       "    }\n",
       "</style>\n",
       "<table border=\"1\" class=\"dataframe\">\n",
       "  <thead>\n",
       "    <tr style=\"text-align: right;\">\n",
       "      <th></th>\n",
       "      <th>Umur (bulan)</th>\n",
       "      <th>Tinggi Badan (cm)</th>\n",
       "    </tr>\n",
       "  </thead>\n",
       "  <tbody>\n",
       "    <tr>\n",
       "      <th>count</th>\n",
       "      <td>120999.000000</td>\n",
       "      <td>120999.000000</td>\n",
       "    </tr>\n",
       "    <tr>\n",
       "      <th>mean</th>\n",
       "      <td>30.173803</td>\n",
       "      <td>88.655434</td>\n",
       "    </tr>\n",
       "    <tr>\n",
       "      <th>std</th>\n",
       "      <td>17.575119</td>\n",
       "      <td>17.300997</td>\n",
       "    </tr>\n",
       "    <tr>\n",
       "      <th>min</th>\n",
       "      <td>0.000000</td>\n",
       "      <td>40.010437</td>\n",
       "    </tr>\n",
       "    <tr>\n",
       "      <th>25%</th>\n",
       "      <td>15.000000</td>\n",
       "      <td>77.000000</td>\n",
       "    </tr>\n",
       "    <tr>\n",
       "      <th>50%</th>\n",
       "      <td>30.000000</td>\n",
       "      <td>89.800000</td>\n",
       "    </tr>\n",
       "    <tr>\n",
       "      <th>75%</th>\n",
       "      <td>45.000000</td>\n",
       "      <td>101.200000</td>\n",
       "    </tr>\n",
       "    <tr>\n",
       "      <th>max</th>\n",
       "      <td>60.000000</td>\n",
       "      <td>128.000000</td>\n",
       "    </tr>\n",
       "  </tbody>\n",
       "</table>\n",
       "</div>"
      ],
      "text/plain": [
       "        Umur (bulan)  Tinggi Badan (cm)\n",
       "count  120999.000000      120999.000000\n",
       "mean       30.173803          88.655434\n",
       "std        17.575119          17.300997\n",
       "min         0.000000          40.010437\n",
       "25%        15.000000          77.000000\n",
       "50%        30.000000          89.800000\n",
       "75%        45.000000         101.200000\n",
       "max        60.000000         128.000000"
      ]
     },
     "execution_count": 198,
     "metadata": {},
     "output_type": "execute_result"
    }
   ],
   "source": [
    "df.describe()"
   ]
  },
  {
   "cell_type": "code",
   "execution_count": 199,
   "id": "e8be4cac",
   "metadata": {},
   "outputs": [
    {
     "data": {
      "text/plain": [
       "array(['laki-laki', 'perempuan'], dtype=object)"
      ]
     },
     "execution_count": 199,
     "metadata": {},
     "output_type": "execute_result"
    }
   ],
   "source": [
    "df['Jenis Kelamin'].unique()"
   ]
  },
  {
   "cell_type": "code",
   "execution_count": 200,
   "id": "2a067c2a",
   "metadata": {},
   "outputs": [
    {
     "data": {
      "text/plain": [
       "array(['stunted', 'tinggi', 'normal', 'severely stunted'], dtype=object)"
      ]
     },
     "execution_count": 200,
     "metadata": {},
     "output_type": "execute_result"
    }
   ],
   "source": [
    "df['Status Gizi'].unique()"
   ]
  },
  {
   "cell_type": "code",
   "execution_count": 201,
   "id": "fcfd9cd4",
   "metadata": {},
   "outputs": [
    {
     "data": {
      "text/plain": [
       "Umur (bulan)         0\n",
       "Jenis Kelamin        0\n",
       "Tinggi Badan (cm)    0\n",
       "Status Gizi          0\n",
       "dtype: int64"
      ]
     },
     "execution_count": 201,
     "metadata": {},
     "output_type": "execute_result"
    }
   ],
   "source": [
    "df.isnull().sum()"
   ]
  },
  {
   "cell_type": "code",
   "execution_count": 202,
   "id": "165ff65b",
   "metadata": {},
   "outputs": [
    {
     "data": {
      "text/plain": [
       "81574"
      ]
     },
     "execution_count": 202,
     "metadata": {},
     "output_type": "execute_result"
    }
   ],
   "source": [
    "df.duplicated().sum()"
   ]
  },
  {
   "cell_type": "markdown",
   "id": "9b002e51",
   "metadata": {},
   "source": [
    "## Exploratory Data Analysis"
   ]
  },
  {
   "cell_type": "code",
   "execution_count": 203,
   "id": "185c5c14",
   "metadata": {},
   "outputs": [
    {
     "data": {
      "text/plain": [
       "Index(['Umur (bulan)', 'Jenis Kelamin', 'Tinggi Badan (cm)', 'Status Gizi'], dtype='object')"
      ]
     },
     "execution_count": 203,
     "metadata": {},
     "output_type": "execute_result"
    }
   ],
   "source": [
    "df.columns"
   ]
  },
  {
   "cell_type": "code",
   "execution_count": 204,
   "id": "c1290ddf",
   "metadata": {},
   "outputs": [],
   "source": [
    "df = df.rename(columns = {'Umur (bulan)' : 'age(month)',\n",
    "                     'Jenis Kelamin' : 'gender',\n",
    "                     'Tinggi Badan (cm)' : 'height(cm)',\n",
    "                    'Status Gizi' : 'status'})"
   ]
  },
  {
   "cell_type": "code",
   "execution_count": 205,
   "id": "0b199b8d",
   "metadata": {},
   "outputs": [
    {
     "data": {
      "text/plain": [
       "age(month)      61\n",
       "gender           2\n",
       "height(cm)    6800\n",
       "status           4\n",
       "dtype: int64"
      ]
     },
     "execution_count": 205,
     "metadata": {},
     "output_type": "execute_result"
    }
   ],
   "source": [
    "df.nunique()"
   ]
  },
  {
   "cell_type": "code",
   "execution_count": 206,
   "id": "ab3125ef",
   "metadata": {
    "scrolled": true
   },
   "outputs": [],
   "source": [
    "df['gender'] = df['gender'].replace({'laki-laki' : 'male' ,\n",
    "                  'perempuan' : 'female'})"
   ]
  },
  {
   "cell_type": "code",
   "execution_count": 207,
   "id": "062bbc50",
   "metadata": {},
   "outputs": [],
   "source": [
    "df['status'] = df['status'].replace({\n",
    "    'tinggi' : 'tall',\n",
    "})"
   ]
  },
  {
   "cell_type": "markdown",
   "id": "8a7b76dc",
   "metadata": {},
   "source": [
    "### How many people according to gender are normal?"
   ]
  },
  {
   "cell_type": "code",
   "execution_count": 208,
   "id": "7508a22c",
   "metadata": {},
   "outputs": [],
   "source": [
    "df_status_gender = df.groupby(['status','gender']).count().reset_index()"
   ]
  },
  {
   "cell_type": "code",
   "execution_count": 209,
   "id": "6030ad88",
   "metadata": {},
   "outputs": [],
   "source": [
    "df_normal_gender = df_status_gender[df_status_gender['status'] == 'normal'].reset_index()\n",
    "df_normal_gender = df_normal_gender.drop(columns='age(month)',axis=1)\n",
    "df_normal_gender.rename(columns={'height(cm)':'total'},inplace=True)\n",
    "df_normal_gender = df_normal_gender.drop(columns='index',axis=1)"
   ]
  },
  {
   "cell_type": "code",
   "execution_count": 210,
   "id": "b20d1a5c",
   "metadata": {},
   "outputs": [
    {
     "data": {
      "text/html": [
       "<div>\n",
       "<style scoped>\n",
       "    .dataframe tbody tr th:only-of-type {\n",
       "        vertical-align: middle;\n",
       "    }\n",
       "\n",
       "    .dataframe tbody tr th {\n",
       "        vertical-align: top;\n",
       "    }\n",
       "\n",
       "    .dataframe thead th {\n",
       "        text-align: right;\n",
       "    }\n",
       "</style>\n",
       "<table border=\"1\" class=\"dataframe\">\n",
       "  <thead>\n",
       "    <tr style=\"text-align: right;\">\n",
       "      <th></th>\n",
       "      <th>status</th>\n",
       "      <th>gender</th>\n",
       "      <th>total</th>\n",
       "    </tr>\n",
       "  </thead>\n",
       "  <tbody>\n",
       "    <tr>\n",
       "      <th>0</th>\n",
       "      <td>normal</td>\n",
       "      <td>female</td>\n",
       "      <td>34352</td>\n",
       "    </tr>\n",
       "    <tr>\n",
       "      <th>1</th>\n",
       "      <td>normal</td>\n",
       "      <td>male</td>\n",
       "      <td>33403</td>\n",
       "    </tr>\n",
       "  </tbody>\n",
       "</table>\n",
       "</div>"
      ],
      "text/plain": [
       "   status  gender  total\n",
       "0  normal  female  34352\n",
       "1  normal    male  33403"
      ]
     },
     "execution_count": 210,
     "metadata": {},
     "output_type": "execute_result"
    }
   ],
   "source": [
    "df_normal_gender"
   ]
  },
  {
   "cell_type": "code",
   "execution_count": 211,
   "id": "b769a59b",
   "metadata": {
    "scrolled": true
   },
   "outputs": [
    {
     "data": {
      "image/png": "[encoded data removed]",
      "text/plain": [
       "<Figure size 640x480 with 1 Axes>"
      ]
     },
     "metadata": {},
     "output_type": "display_data"
    }
   ],
   "source": [
    "ax = df_normal_gender.plot(kind='bar' , title='total normal toddlers by sex')\n",
    "ax.set_xlabel('Sex')\n",
    "ax.set_ylabel('Total')\n",
    "plt.xticks([0,1],['female','male'])\n",
    "ax.set_xticklabels(['female','male'],rotation=0)\n",
    "plt.show()"
   ]
  },
  {
   "cell_type": "markdown",
   "id": "8cf73c1b",
   "metadata": {},
   "source": [
    "### How many people based on gender are stunted ?"
   ]
  },
  {
   "cell_type": "code",
   "execution_count": 212,
   "id": "37fe96fb",
   "metadata": {
    "scrolled": true
   },
   "outputs": [],
   "source": [
    "df_stunted_gender = df_status_gender[df_status_gender['status'] == 'stunted']\n",
    "df_stunted_gender=df_stunted_gender.drop(columns='height(cm)')\n",
    "df_stunted_gender.rename(columns={'age(month)':'total'},inplace=True)\n",
    "df_stunted_gender=df_stunted_gender.reset_index()\n",
    "df_stunted_gender=df_stunted_gender.drop(columns='index')"
   ]
  },
  {
   "cell_type": "code",
   "execution_count": 213,
   "id": "a0bce777",
   "metadata": {
    "scrolled": true
   },
   "outputs": [
    {
     "data": {
      "image/png": "[encoded data removed]",
      "text/plain": [
       "<Figure size 640x480 with 1 Axes>"
      ]
     },
     "metadata": {},
     "output_type": "display_data"
    }
   ],
   "source": [
    "ax = df_stunted_gender.plot(kind='bar',title='total stunted toddlers by sex')\n",
    "ax.set_xlabel('Sex')\n",
    "ax.set_ylabel('Total')\n",
    "plt.xticks([0,1],['Female','Male'])\n",
    "ax.set_xticklabels(['Female','Male'],rotation=0)\n",
    "plt.show()"
   ]
  },
  {
   "cell_type": "markdown",
   "id": "718d0aeb",
   "metadata": {},
   "source": [
    "### how many people based on calorie status ?"
   ]
  },
  {
   "cell_type": "code",
   "execution_count": 214,
   "id": "0e88d042",
   "metadata": {},
   "outputs": [],
   "source": [
    "df_status_total = df['status'].groupby(df['status']).count().sort_values(ascending=False)"
   ]
  },
  {
   "cell_type": "code",
   "execution_count": 215,
   "id": "58cdc593",
   "metadata": {},
   "outputs": [
    {
     "data": {
      "text/plain": [
       "status\n",
       "normal              67755\n",
       "severely stunted    19869\n",
       "tall                19560\n",
       "stunted             13815\n",
       "Name: status, dtype: int64"
      ]
     },
     "execution_count": 215,
     "metadata": {},
     "output_type": "execute_result"
    }
   ],
   "source": [
    "df_status_total"
   ]
  },
  {
   "cell_type": "code",
   "execution_count": 216,
   "id": "c62c5cd3",
   "metadata": {},
   "outputs": [
    {
     "data": {
      "image/png": "[encoded data removed]",
      "text/plain": [
       "<Figure size 640x480 with 1 Axes>"
      ]
     },
     "metadata": {},
     "output_type": "display_data"
    }
   ],
   "source": [
    "ax = df_status_total.plot(kind='barh',title='total distribution of nutritional status')\n",
    "ax.set_ylabel('total')\n",
    "plt.gca().invert_yaxis()\n",
    "plt.show()"
   ]
  },
  {
   "cell_type": "markdown",
   "id": "574bce2f",
   "metadata": {},
   "source": [
    "### what is the average height for calorie status ?"
   ]
  },
  {
   "cell_type": "code",
   "execution_count": 217,
   "id": "01cd67c6",
   "metadata": {
    "scrolled": true
   },
   "outputs": [],
   "source": [
    "df_mean_height = df.groupby('status')['height(cm)'].mean()\n",
    "df_mean_height=df_mean_height.sort_values(ascending=False)"
   ]
  },
  {
   "cell_type": "code",
   "execution_count": 218,
   "id": "d3861312",
   "metadata": {
    "scrolled": true
   },
   "outputs": [
    {
     "data": {
      "text/plain": [
       "status\n",
       "tall                94.912898\n",
       "normal              92.702689\n",
       "stunted             82.208722\n",
       "severely stunted    73.176224\n",
       "Name: height(cm), dtype: float64"
      ]
     },
     "execution_count": 218,
     "metadata": {},
     "output_type": "execute_result"
    }
   ],
   "source": [
    "df_mean_height"
   ]
  },
  {
   "cell_type": "code",
   "execution_count": 219,
   "id": "16780855",
   "metadata": {
    "scrolled": true
   },
   "outputs": [
    {
     "data": {
      "image/png": "[encoded data removed]",
      "text/plain": [
       "<Figure size 640x480 with 1 Axes>"
      ]
     },
     "metadata": {},
     "output_type": "display_data"
    }
   ],
   "source": [
    "ax = df_mean_height.plot(kind='barh',title='mean of height for status calorie')\n",
    "ax.set_ylabel('Status')\n",
    "plt.gca().invert_yaxis()\n",
    "plt.show()"
   ]
  },
  {
   "cell_type": "markdown",
   "id": "8a93228a",
   "metadata": {},
   "source": [
    "## Data Preprocessing\n",
    "\n",
    "* Turn gender into binary/numeric\n",
    "* One Hot Encode status data column\n",
    "* Normalize height data column"
   ]
  },
  {
   "cell_type": "code",
   "execution_count": 220,
   "id": "d7e42765",
   "metadata": {},
   "outputs": [],
   "source": [
    "from sklearn.preprocessing import OneHotEncoder\n",
    "from sklearn.preprocessing import StandardScaler,MinMaxScaler\n",
    "from sklearn.base import BaseEstimator , TransformerMixin\n",
    "from sklearn.pipeline import Pipeline"
   ]
  },
  {
   "cell_type": "code",
   "execution_count": 221,
   "id": "ca1ac3cd",
   "metadata": {},
   "outputs": [],
   "source": [
    "#binary transformer for gender\n",
    "class BinaryEncoder(BaseEstimator,TransformerMixin) : \n",
    "    def fit(self,X,y=None) : \n",
    "        return self\n",
    "    def transform(self,X) : \n",
    "        binary_gender={'male':'0','female':'1'}\n",
    "        X['gender'] = [binary_gender[i] for i in X['gender']]\n",
    "        \n",
    "        return X\n",
    "\n",
    "#encoder for categorical data\n",
    "class Encoder(BaseEstimator,TransformerMixin) : \n",
    "    def fit(self,X,y=None) : \n",
    "        return self \n",
    "    \n",
    "    def transform(self,X) : \n",
    "        encoder = OneHotEncoder()\n",
    "        matrix = encoder.fit_transform(X[['status']]).toarray()\n",
    "        status = ['stunted','tall','normal','severely stunted']\n",
    "        \n",
    "        for i in range(len(matrix.T)) : \n",
    "            X[status[i]] = matrix.T[i]\n",
    "        \n",
    "        X = X.drop(['status'],axis=1)\n",
    "        \n",
    "        return X\n",
    "\n",
    "#normalization transfomer \n",
    "class Normalize(BaseEstimator,TransformerMixin) : \n",
    "    def fit(self,X,y=None) :\n",
    "        return self \n",
    "    def transform(self,X) : \n",
    "        scaler_minmax = MinMaxScaler()\n",
    "        \n",
    "        normalized = scaler_minmax.fit_transform(X[['height(cm)']])\n",
    "        X['height(cm)'] = normalized\n",
    "        \n",
    "        return X"
   ]
  },
  {
   "cell_type": "code",
   "execution_count": 222,
   "id": "34411972",
   "metadata": {},
   "outputs": [],
   "source": [
    "binary = BinaryEncoder()\n",
    "enc = Encoder()\n",
    "norm = Normalize()\n",
    "\n",
    "#manually transform with transformer class\n",
    "#norm.fit_transform(enc.fit_transform(binary.fit_transform(df2)))\n"
   ]
  },
  {
   "cell_type": "code",
   "execution_count": 223,
   "id": "5a1d5e81",
   "metadata": {},
   "outputs": [
    {
     "data": {
      "text/html": [
       "<style>#sk-container-id-7 {color: black;}#sk-container-id-7 pre{padding: 0;}#sk-container-id-7 div.sk-toggleable {background-color: white;}#sk-container-id-7 label.sk-toggleable__label {cursor: pointer;display: block;width: 100%;margin-bottom: 0;padding: 0.3em;box-sizing: border-box;text-align: center;}#sk-container-id-7 label.sk-toggleable__label-arrow:before {content: \"▸\";float: left;margin-right: 0.25em;color: #696969;}#sk-container-id-7 label.sk-toggleable__label-arrow:hover:before {color: black;}#sk-container-id-7 div.sk-estimator:hover label.sk-toggleable__label-arrow:before {color: black;}#sk-container-id-7 div.sk-toggleable__content {max-height: 0;max-width: 0;overflow: hidden;text-align: left;background-color: #f0f8ff;}#sk-container-id-7 div.sk-toggleable__content pre {margin: 0.2em;color: black;border-radius: 0.25em;background-color: #f0f8ff;}#sk-container-id-7 input.sk-toggleable__control:checked~div.sk-toggleable__content {max-height: 200px;max-width: 100%;overflow: auto;}#sk-container-id-7 input.sk-toggleable__control:checked~label.sk-toggleable__label-arrow:before {content: \"▾\";}#sk-container-id-7 div.sk-estimator input.sk-toggleable__control:checked~label.sk-toggleable__label {background-color: #d4ebff;}#sk-container-id-7 div.sk-label input.sk-toggleable__control:checked~label.sk-toggleable__label {background-color: #d4ebff;}#sk-container-id-7 input.sk-hidden--visually {border: 0;clip: rect(1px 1px 1px 1px);clip: rect(1px, 1px, 1px, 1px);height: 1px;margin: -1px;overflow: hidden;padding: 0;position: absolute;width: 1px;}#sk-container-id-7 div.sk-estimator {font-family: monospace;background-color: #f0f8ff;border: 1px dotted black;border-radius: 0.25em;box-sizing: border-box;margin-bottom: 0.5em;}#sk-container-id-7 div.sk-estimator:hover {background-color: #d4ebff;}#sk-container-id-7 div.sk-parallel-item::after {content: \"\";width: 100%;border-bottom: 1px solid gray;flex-grow: 1;}#sk-container-id-7 div.sk-label:hover label.sk-toggleable__label {background-color: #d4ebff;}#sk-container-id-7 div.sk-serial::before {content: \"\";position: absolute;border-left: 1px solid gray;box-sizing: border-box;top: 0;bottom: 0;left: 50%;z-index: 0;}#sk-container-id-7 div.sk-serial {display: flex;flex-direction: column;align-items: center;background-color: white;padding-right: 0.2em;padding-left: 0.2em;position: relative;}#sk-container-id-7 div.sk-item {position: relative;z-index: 1;}#sk-container-id-7 div.sk-parallel {display: flex;align-items: stretch;justify-content: center;background-color: white;position: relative;}#sk-container-id-7 div.sk-item::before, #sk-container-id-7 div.sk-parallel-item::before {content: \"\";position: absolute;border-left: 1px solid gray;box-sizing: border-box;top: 0;bottom: 0;left: 50%;z-index: -1;}#sk-container-id-7 div.sk-parallel-item {display: flex;flex-direction: column;z-index: 1;position: relative;background-color: white;}#sk-container-id-7 div.sk-parallel-item:first-child::after {align-self: flex-end;width: 50%;}#sk-container-id-7 div.sk-parallel-item:last-child::after {align-self: flex-start;width: 50%;}#sk-container-id-7 div.sk-parallel-item:only-child::after {width: 0;}#sk-container-id-7 div.sk-dashed-wrapped {border: 1px dashed gray;margin: 0 0.4em 0.5em 0.4em;box-sizing: border-box;padding-bottom: 0.4em;background-color: white;}#sk-container-id-7 div.sk-label label {font-family: monospace;font-weight: bold;display: inline-block;line-height: 1.2em;}#sk-container-id-7 div.sk-label-container {text-align: center;}#sk-container-id-7 div.sk-container {/* jupyter's `normalize.less` sets `[hidden] { display: none; }` but bootstrap.min.css set `[hidden] { display: none !important; }` so we also need the `!important` here to be able to override the default hidden behavior on the sphinx rendered scikit-learn.org. See: https://github.com/scikit-learn/scikit-learn/issues/21755 */display: inline-block !important;position: relative;}#sk-container-id-7 div.sk-text-repr-fallback {display: none;}</style><div id=\"sk-container-id-7\" class=\"sk-top-container\"><div class=\"sk-text-repr-fallback\"><pre>Pipeline(steps=[(&#x27;binary&#x27;, BinaryEncoder()), (&#x27;enc&#x27;, Encoder()),\n",
       "                (&#x27;norm&#x27;, Normalize())])</pre><b>In a Jupyter environment, please rerun this cell to show the HTML representation or trust the notebook. <br />On GitHub, the HTML representation is unable to render, please try loading this page with nbviewer.org.</b></div><div class=\"sk-container\" hidden><div class=\"sk-item sk-dashed-wrapped\"><div class=\"sk-label-container\"><div class=\"sk-label sk-toggleable\"><input class=\"sk-toggleable__control sk-hidden--visually\" id=\"sk-estimator-id-25\" type=\"checkbox\" ><label for=\"sk-estimator-id-25\" class=\"sk-toggleable__label sk-toggleable__label-arrow\">Pipeline</label><div class=\"sk-toggleable__content\"><pre>Pipeline(steps=[(&#x27;binary&#x27;, BinaryEncoder()), (&#x27;enc&#x27;, Encoder()),\n",
       "                (&#x27;norm&#x27;, Normalize())])</pre></div></div></div><div class=\"sk-serial\"><div class=\"sk-item\"><div class=\"sk-estimator sk-toggleable\"><input class=\"sk-toggleable__control sk-hidden--visually\" id=\"sk-estimator-id-26\" type=\"checkbox\" ><label for=\"sk-estimator-id-26\" class=\"sk-toggleable__label sk-toggleable__label-arrow\">BinaryEncoder</label><div class=\"sk-toggleable__content\"><pre>BinaryEncoder()</pre></div></div></div><div class=\"sk-item\"><div class=\"sk-estimator sk-toggleable\"><input class=\"sk-toggleable__control sk-hidden--visually\" id=\"sk-estimator-id-27\" type=\"checkbox\" ><label for=\"sk-estimator-id-27\" class=\"sk-toggleable__label sk-toggleable__label-arrow\">Encoder</label><div class=\"sk-toggleable__content\"><pre>Encoder()</pre></div></div></div><div class=\"sk-item\"><div class=\"sk-estimator sk-toggleable\"><input class=\"sk-toggleable__control sk-hidden--visually\" id=\"sk-estimator-id-28\" type=\"checkbox\" ><label for=\"sk-estimator-id-28\" class=\"sk-toggleable__label sk-toggleable__label-arrow\">Normalize</label><div class=\"sk-toggleable__content\"><pre>Normalize()</pre></div></div></div></div></div></div></div>"
      ],
      "text/plain": [
       "Pipeline(steps=[('binary', BinaryEncoder()), ('enc', Encoder()),\n",
       "                ('norm', Normalize())])"
      ]
     },
     "execution_count": 223,
     "metadata": {},
     "output_type": "execute_result"
    }
   ],
   "source": [
    "#build pipeline\n",
    "pipe = Pipeline([\n",
    "    ('binary',BinaryEncoder()),\n",
    "    ('enc',Encoder()),\n",
    "    ('norm',Normalize())\n",
    "])\n",
    "pipe"
   ]
  },
  {
   "cell_type": "code",
   "execution_count": 224,
   "id": "d8632201",
   "metadata": {},
   "outputs": [],
   "source": [
    "df = pipe.fit_transform(df)"
   ]
  }
 ],
 "metadata": {
  "kernelspec": {
   "display_name": "Python 3 (ipykernel)",
   "language": "python",
   "name": "python3"
  },
  "language_info": {
   "codemirror_mode": {
    "name": "ipython",
    "version": 3
   },
   "file_extension": ".py",
   "mimetype": "text/x-python",
   "name": "python",
   "nbconvert_exporter": "python",
   "pygments_lexer": "ipython3",
   "version": "3.11.5"
  }
 },
 "nbformat": 4,
 "nbformat_minor": 5
}
